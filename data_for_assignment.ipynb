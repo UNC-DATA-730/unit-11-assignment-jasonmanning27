{
 "cells": [
  {
   "cell_type": "code",
   "execution_count": 2,
   "id": "72425930-6b51-4779-93e0-860072de8fb0",
   "metadata": {
    "tags": []
   },
   "outputs": [],
   "source": [
    "from sklearn.datasets import fetch_california_housing\n",
    "\n",
    "california_housing = fetch_california_housing(as_frame=True)\n",
    "\n",
    "(\n",
    "    california_housing.data\n",
    "    .assign(MedianHouseValue=california_housing.target)\n",
    "    .to_csv('california-housing.csv', index=False)\n",
    ")\n"
   ]
  },
  {
   "cell_type": "code",
   "execution_count": null,
   "id": "5944d22f-93d7-4ab2-8096-ab2def76d563",
   "metadata": {},
   "outputs": [],
   "source": []
  }
 ],
 "metadata": {
  "kernelspec": {
   "display_name": ".conda-data730:Python",
   "language": "python",
   "name": "conda-env-.conda-data730-py"
  },
  "language_info": {
   "codemirror_mode": {
    "name": "ipython",
    "version": 3
   },
   "file_extension": ".py",
   "mimetype": "text/x-python",
   "name": "python",
   "nbconvert_exporter": "python",
   "pygments_lexer": "ipython3",
   "version": "3.9.21"
  }
 },
 "nbformat": 4,
 "nbformat_minor": 5
}
